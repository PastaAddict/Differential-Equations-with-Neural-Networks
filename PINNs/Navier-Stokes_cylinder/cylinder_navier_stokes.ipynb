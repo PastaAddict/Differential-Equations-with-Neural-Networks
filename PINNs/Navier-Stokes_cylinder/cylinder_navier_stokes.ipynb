{
 "cells": [
  {
   "cell_type": "code",
   "execution_count": 1,
   "metadata": {},
   "outputs": [],
   "source": [
    "import numpy as np\n",
    "import matplotlib.pyplot as plt\n",
    "import time\n",
    "import random\n",
    "\n",
    "import numpy as np\n",
    "import matplotlib.pyplot as plt\n",
    "import torch\n",
    "from torch import nn, optim\n",
    "from torch.nn import functional as F\n",
    "from torch.utils.data import TensorDataset, DataLoader\n",
    "from torch.autograd import Variable\n",
    "import pyDOE\n",
    "\n",
    "from torch.optim.optimizer import Optimizer, required\n",
    "\n",
    "torch.manual_seed(16)\n",
    "np.random.seed(16)\n",
    "#random.seed(16)\n",
    "torch.backends.cudnn.deterministic = True"
   ]
  },
  {
   "cell_type": "code",
   "execution_count": 3,
   "metadata": {},
   "outputs": [],
   "source": [
    "import scipy.io\n",
    "mat = scipy.io.loadmat(r'C:\\Users\\krist\\Downloads\\cylinder_nektar_wake.mat')"
   ]
  },
  {
   "cell_type": "code",
   "execution_count": 3,
   "metadata": {},
   "outputs": [],
   "source": [
    "u = mat['U_star']\n",
    "p = mat['p_star']\n",
    "x = mat['X_star']\n",
    "t = mat['t']"
   ]
  },
  {
   "cell_type": "code",
   "execution_count": 4,
   "metadata": {},
   "outputs": [],
   "source": [
    "#create data\n",
    "residual = []\n",
    "boundary = []\n",
    "for i in range(70):\n",
    "    data = list(zip(x,u[:,:,i],p[:,i]))\n",
    "    pairs = random.sample(data,2000)\n",
    "    residual += [list(np.concatenate((j[0],t[i],j[1],[j[2]]))) for j in pairs]\n",
    "    \n",
    "    y_bound = data[:100] + data[-100:]\n",
    "    pairs_y = random.sample(y_bound,100)\n",
    "    x_bound = data[::100] + data[99::100]\n",
    "    pairs_x = random.sample(x_bound,50)\n",
    "    \n",
    "    boundary += [list(np.concatenate((j[0],t[i],j[1],[j[2]]))) for j in pairs_x]\n",
    "    boundary += [list(np.concatenate((j[0],t[i],j[1],[j[2]]))) for j in pairs_y]\n",
    "\n",
    "    \n",
    "residual = np.array(residual)\n",
    "initial = residual[:2000]\n",
    "boundary = np.array(boundary)\n",
    "    "
   ]
  },
  {
   "cell_type": "code",
   "execution_count": 5,
   "metadata": {},
   "outputs": [],
   "source": [
    "#to tensor\n",
    "def to_tensor(a):\n",
    "    a = a.reshape((-1,1))\n",
    "    a = torch.tensor(a).type(torch.FloatTensor)\n",
    "    return a\n",
    "        \n",
    "        \n",
    "#residual\n",
    "x_r = to_tensor(residual[:,0])\n",
    "y_r = to_tensor(residual[:,1])\n",
    "t_r = to_tensor(residual[:,2])\n",
    "u_r = to_tensor(residual[:,3])\n",
    "v_r = to_tensor(residual[:,4])\n",
    "p_r = to_tensor(residual[:,5])\n",
    "\n",
    "#boundary\n",
    "x_b = to_tensor(boundary[:,0])\n",
    "y_b = to_tensor(boundary[:,1])\n",
    "t_b = to_tensor(boundary[:,2])\n",
    "u_b = to_tensor(boundary[:,3])\n",
    "v_b = to_tensor(boundary[:,4])\n",
    "p_b = to_tensor(boundary[:,5])\n",
    "\n",
    "#initial\n",
    "x_i = to_tensor(initial[:,0])\n",
    "y_i = to_tensor(initial[:,1])\n",
    "t_i = to_tensor(initial[:,2])\n",
    "u_i = to_tensor(initial[:,3])\n",
    "v_i = to_tensor(initial[:,4])\n",
    "p_i = to_tensor(initial[:,5])"
   ]
  },
  {
   "cell_type": "code",
   "execution_count": 6,
   "metadata": {},
   "outputs": [],
   "source": [
    "class PINN(nn.Module):\n",
    "    def __init__(self,hidden_number,hidden_size):\n",
    "        super(PINN, self).__init__()\n",
    "        self.inLayer = nn.Linear(3, hidden_size)\n",
    "        self.linears = nn.ModuleList([nn.Linear(hidden_size, hidden_size) for i in range(hidden_number)])\n",
    "        self.outLayer = nn.Linear(hidden_size, 3)\n",
    "\n",
    "    def forward(self, x1, x2, x3):\n",
    "        x  = torch.cat((x1,x2,x3),1)\n",
    "        x = self.inLayer(x)\n",
    "        for i, layer in enumerate(self.linears):\n",
    "            x = torch.tanh(x)\n",
    "            x = layer(x)\n",
    "        x = torch.tanh(x)  \n",
    "        x = self.outLayer(x)\n",
    "        return x"
   ]
  },
  {
   "cell_type": "code",
   "execution_count": 7,
   "metadata": {},
   "outputs": [],
   "source": [
    "pn = PINN(10,100)\n",
    "\n",
    "MAX_EPOCHS = 10000\n",
    "LRATE = 1e-4\n",
    "\n",
    "#Use Adam for training\n",
    "optimizer = torch.optim.Adam(pn.parameters(), lr=LRATE)\n",
    "\n",
    "criterion = nn.MSELoss()\n",
    "\n",
    "loss_history_u = []\n",
    "loss_history_f = []\n",
    "loss_history = []"
   ]
  },
  {
   "cell_type": "code",
   "execution_count": 9,
   "metadata": {
    "scrolled": false
   },
   "outputs": [
    {
     "ename": "KeyboardInterrupt",
     "evalue": "",
     "output_type": "error",
     "traceback": [
      "\u001b[1;31m---------------------------------------------------------------------------\u001b[0m",
      "\u001b[1;31mKeyboardInterrupt\u001b[0m                         Traceback (most recent call last)",
      "\u001b[1;32m<ipython-input-9-7f8136a9c785>\u001b[0m in \u001b[0;36m<module>\u001b[1;34m\u001b[0m\n\u001b[0;32m     63\u001b[0m     \u001b[0mv_x\u001b[0m \u001b[1;33m=\u001b[0m \u001b[0mtorch\u001b[0m\u001b[1;33m.\u001b[0m\u001b[0mautograd\u001b[0m\u001b[1;33m.\u001b[0m\u001b[0mgrad\u001b[0m\u001b[1;33m(\u001b[0m\u001b[0mv\u001b[0m\u001b[1;33m.\u001b[0m\u001b[0msum\u001b[0m\u001b[1;33m(\u001b[0m\u001b[1;33m)\u001b[0m\u001b[1;33m,\u001b[0m\u001b[0mx_res\u001b[0m\u001b[1;33m,\u001b[0m\u001b[0mcreate_graph\u001b[0m\u001b[1;33m=\u001b[0m\u001b[1;32mTrue\u001b[0m\u001b[1;33m)\u001b[0m\u001b[1;33m[\u001b[0m\u001b[1;36m0\u001b[0m\u001b[1;33m]\u001b[0m\u001b[1;33m\u001b[0m\u001b[1;33m\u001b[0m\u001b[0m\n\u001b[0;32m     64\u001b[0m \u001b[1;33m\u001b[0m\u001b[0m\n\u001b[1;32m---> 65\u001b[1;33m     \u001b[0mu_y\u001b[0m \u001b[1;33m=\u001b[0m \u001b[0mtorch\u001b[0m\u001b[1;33m.\u001b[0m\u001b[0mautograd\u001b[0m\u001b[1;33m.\u001b[0m\u001b[0mgrad\u001b[0m\u001b[1;33m(\u001b[0m\u001b[0mu\u001b[0m\u001b[1;33m.\u001b[0m\u001b[0msum\u001b[0m\u001b[1;33m(\u001b[0m\u001b[1;33m)\u001b[0m\u001b[1;33m,\u001b[0m\u001b[0my_res\u001b[0m\u001b[1;33m,\u001b[0m\u001b[0mcreate_graph\u001b[0m\u001b[1;33m=\u001b[0m\u001b[1;32mTrue\u001b[0m\u001b[1;33m)\u001b[0m\u001b[1;33m[\u001b[0m\u001b[1;36m0\u001b[0m\u001b[1;33m]\u001b[0m\u001b[1;33m\u001b[0m\u001b[1;33m\u001b[0m\u001b[0m\n\u001b[0m\u001b[0;32m     66\u001b[0m     \u001b[0mv_y\u001b[0m \u001b[1;33m=\u001b[0m \u001b[0mtorch\u001b[0m\u001b[1;33m.\u001b[0m\u001b[0mautograd\u001b[0m\u001b[1;33m.\u001b[0m\u001b[0mgrad\u001b[0m\u001b[1;33m(\u001b[0m\u001b[0mv\u001b[0m\u001b[1;33m.\u001b[0m\u001b[0msum\u001b[0m\u001b[1;33m(\u001b[0m\u001b[1;33m)\u001b[0m\u001b[1;33m,\u001b[0m\u001b[0my_res\u001b[0m\u001b[1;33m,\u001b[0m\u001b[0mcreate_graph\u001b[0m\u001b[1;33m=\u001b[0m\u001b[1;32mTrue\u001b[0m\u001b[1;33m)\u001b[0m\u001b[1;33m[\u001b[0m\u001b[1;36m0\u001b[0m\u001b[1;33m]\u001b[0m\u001b[1;33m\u001b[0m\u001b[1;33m\u001b[0m\u001b[0m\n\u001b[0;32m     67\u001b[0m \u001b[1;33m\u001b[0m\u001b[0m\n",
      "\u001b[1;32m~\\anaconda3\\lib\\site-packages\\torch\\autograd\\__init__.py\u001b[0m in \u001b[0;36mgrad\u001b[1;34m(outputs, inputs, grad_outputs, retain_graph, create_graph, only_inputs, allow_unused)\u001b[0m\n\u001b[0;32m    153\u001b[0m         \u001b[0mretain_graph\u001b[0m \u001b[1;33m=\u001b[0m \u001b[0mcreate_graph\u001b[0m\u001b[1;33m\u001b[0m\u001b[1;33m\u001b[0m\u001b[0m\n\u001b[0;32m    154\u001b[0m \u001b[1;33m\u001b[0m\u001b[0m\n\u001b[1;32m--> 155\u001b[1;33m     return Variable._execution_engine.run_backward(\n\u001b[0m\u001b[0;32m    156\u001b[0m         \u001b[0moutputs\u001b[0m\u001b[1;33m,\u001b[0m \u001b[0mgrad_outputs\u001b[0m\u001b[1;33m,\u001b[0m \u001b[0mretain_graph\u001b[0m\u001b[1;33m,\u001b[0m \u001b[0mcreate_graph\u001b[0m\u001b[1;33m,\u001b[0m\u001b[1;33m\u001b[0m\u001b[1;33m\u001b[0m\u001b[0m\n\u001b[0;32m    157\u001b[0m         inputs, allow_unused)\n",
      "\u001b[1;31mKeyboardInterrupt\u001b[0m: "
     ]
    }
   ],
   "source": [
    "l=1\n",
    "for epoch in range(10):\n",
    "    #full batch\n",
    "    \n",
    "    #bc\n",
    "    x_bc = x_b.clone()\n",
    "    x_bc.requires_grad = True\n",
    "\n",
    "    y_bc = y_b.clone()\n",
    "    y_bc.requires_grad = True\n",
    "    \n",
    "    t_bc = t_b.clone()\n",
    "    t_bc.requires_grad = True\n",
    "    \n",
    "    upred_bc = pn(x_bc, y_bc, t_bc)\n",
    "    \n",
    "    u_bc = torch.reshape(upred_bc[:,0], (-1, 1))\n",
    "    v_bc = torch.reshape(upred_bc[:,1], (-1, 1))\n",
    "\n",
    "    loss_bc = criterion(input=u_bc, target = u_b) + criterion(input=v_bc, target = v_b)\n",
    "\n",
    "    #loss_history_u.append([epoch, loss_bc])\n",
    "    \n",
    "    #ic\n",
    "    x_ic = x_i.clone()\n",
    "    x_ic.requires_grad = True\n",
    "\n",
    "    y_ic = y_i.clone()\n",
    "    y_ic.requires_grad = True\n",
    "    \n",
    "    t_ic = t_i.clone()\n",
    "    t_ic.requires_grad = True\n",
    "    \n",
    "    upred_ic = pn(x_ic, y_ic, t_ic)\n",
    "    \n",
    "    u_ic = torch.reshape(upred_ic[:,0], (-1, 1))\n",
    "    v_ic = torch.reshape(upred_ic[:,1], (-1, 1))\n",
    "\n",
    "    loss_ic = criterion(input=u_ic, target = u_i) + criterion(input=v_ic, target = v_i)\n",
    "\n",
    "    #loss_history_u.append([epoch, loss_ic])\n",
    "\n",
    "    #residual\n",
    "    x_res = x_r.clone()\n",
    "    x_res.requires_grad = True\n",
    "\n",
    "    y_res = y_r.clone()\n",
    "    y_res.requires_grad = True\n",
    "    \n",
    "    t_res = t_r.clone()\n",
    "    t_res.requires_grad = True\n",
    "\n",
    "    upred = pn(x_res, y_res, t_res)\n",
    "    \n",
    "    u = torch.reshape(upred[:,0], (-1, 1))\n",
    "    v = torch.reshape(upred[:,1], (-1, 1))\n",
    "    p = torch.reshape(upred[:,2], (-1, 1))\n",
    "    \n",
    "    u_t = torch.autograd.grad(u.sum(),t_res,create_graph=True)[0]\n",
    "    v_t = torch.autograd.grad(v.sum(),t_res,create_graph=True)[0]\n",
    "    \n",
    "    u_x = torch.autograd.grad(u.sum(),x_res,create_graph=True)[0]\n",
    "    v_x = torch.autograd.grad(v.sum(),x_res,create_graph=True)[0]\n",
    "    \n",
    "    u_y = torch.autograd.grad(u.sum(),y_res,create_graph=True)[0]\n",
    "    v_y = torch.autograd.grad(v.sum(),y_res,create_graph=True)[0]\n",
    "    \n",
    "    p_x = torch.autograd.grad(p.sum(),x_res,create_graph=True)[0]\n",
    "    p_y = torch.autograd.grad(p.sum(),y_res,create_graph=True)[0]\n",
    "\n",
    "    u_xx = torch.autograd.grad(u_x.sum(),x_res,create_graph=True)[0]\n",
    "    u_yy = torch.autograd.grad(u_y.sum(),y_res,create_graph=True)[0]\n",
    "    \n",
    "    v_xx = torch.autograd.grad(v_x.sum(),x_res,create_graph=True)[0]\n",
    "    v_yy = torch.autograd.grad(v_y.sum(),y_res,create_graph=True)[0]\n",
    "\n",
    "\n",
    "    loss_r = criterion(input = u_t + u*u_x + v*u_y + p_x - (1/100)*(u_xx + u_yy), target = 0 )\\\n",
    "          + criterion(input = v_t + u*v_x + v*v_y + p_y - (1/100)*(v_xx + v_yy), target = 0 )\\\n",
    "          + criterion(input = u_x + v_y, target = 0 )\n",
    "    \n",
    "\n",
    "    loss_history_f.append([epoch, loss_r])\n",
    "    \n",
    "    \n",
    "    loss = loss_bc + loss_ic + loss_r\n",
    "    loss_history.append([epoch, loss])\n",
    "    \n",
    "    #optimizer step\n",
    "    optimizer.zero_grad()\n",
    "    loss.backward()\n",
    "    optimizer.step()\n",
    "        \n",
    "        \n",
    "    if (epoch+1) % 1 == 0:\n",
    "        print(\"Epoch: {}, MSE_u: {:.7f}, MSE_f: {:.7f}, MSE: {:.7f}, l: {:.2f}\".format((epoch+1), mse_u, mse_f, loss, l))"
   ]
  },
  {
   "cell_type": "code",
   "execution_count": 52,
   "metadata": {},
   "outputs": [
    {
     "data": {
      "text/plain": [
       "array([[1.        , 1.07070707, 1.14141414, ..., 7.85858586, 7.92929293,\n",
       "        8.        ],\n",
       "       [1.        , 1.07070707, 1.14141414, ..., 7.85858586, 7.92929293,\n",
       "        8.        ],\n",
       "       [1.        , 1.07070707, 1.14141414, ..., 7.85858586, 7.92929293,\n",
       "        8.        ],\n",
       "       ...,\n",
       "       [1.        , 1.07070707, 1.14141414, ..., 7.85858586, 7.92929293,\n",
       "        8.        ],\n",
       "       [1.        , 1.07070707, 1.14141414, ..., 7.85858586, 7.92929293,\n",
       "        8.        ],\n",
       "       [1.        , 1.07070707, 1.14141414, ..., 7.85858586, 7.92929293,\n",
       "        8.        ]])"
      ]
     },
     "execution_count": 52,
     "metadata": {},
     "output_type": "execute_result"
    }
   ],
   "source": [
    "mat['X_star'][:,0].reshape(50,100)"
   ]
  },
  {
   "cell_type": "code",
   "execution_count": 5,
   "metadata": {
    "scrolled": false
   },
   "outputs": [
    {
     "data": {
      "text/plain": [
       "array([1.11419216, 1.11102707, 1.10748452, ..., 1.04183122, 1.03144583,\n",
       "       1.02128975])"
      ]
     },
     "execution_count": 5,
     "metadata": {},
     "output_type": "execute_result"
    }
   ],
   "source": [
    "mat['U_star'][:,0,0]"
   ]
  },
  {
   "cell_type": "code",
   "execution_count": 18,
   "metadata": {},
   "outputs": [],
   "source": [
    "x = mat['X_star'][:,0].reshape(50,100)[::2,::2]\n",
    "y = mat['X_star'][:,1].reshape(50,100)[::2,::2]\n",
    "\n",
    "\n",
    "for i in range(20):\n",
    "    u = mat['U_star'][:,0,i].reshape(50,100)[::2,::2]\n",
    "    v = mat['U_star'][:,1,i].reshape(50,100)[::2,::2]\n",
    "\n",
    "    plt.figure(figsize=(20,10))\n",
    "\n",
    "    m = np.hypot(u, u)\n",
    "    plt.title(label = f'time: {i/10} sec')\n",
    "    plt.quiver(x,y,u,v,m)\n",
    "    \n",
    "\n",
    "    plt.savefig(f'C:\\\\Users\\\\krist\\\\OneDrive\\\\Υπολογιστής\\\\figures2\\\\{i}.png')\n",
    "    plt.close()"
   ]
  },
  {
   "cell_type": "code",
   "execution_count": 44,
   "metadata": {},
   "outputs": [],
   "source": [
    "%matplotlib qt"
   ]
  },
  {
   "cell_type": "code",
   "execution_count": 54,
   "metadata": {},
   "outputs": [
    {
     "data": {
      "text/plain": [
       "<mpl_toolkits.mplot3d.art3d.Line3DCollection at 0x13e9e752940>"
      ]
     },
     "execution_count": 54,
     "metadata": {},
     "output_type": "execute_result"
    }
   ],
   "source": [
    "fig = plt.figure()\n",
    "ax = plt.axes(projection='3d')\n",
    "ax.plot_wireframe(mat['X_star'][:,0].reshape(50,100), mat['X_star'][:,1].reshape(50,100), mat['U_star'][:,0,40].reshape(50,100), color='r')"
   ]
  }
 ],
 "metadata": {
  "kernelspec": {
   "display_name": "Python 3",
   "language": "python",
   "name": "python3"
  },
  "language_info": {
   "codemirror_mode": {
    "name": "ipython",
    "version": 3
   },
   "file_extension": ".py",
   "mimetype": "text/x-python",
   "name": "python",
   "nbconvert_exporter": "python",
   "pygments_lexer": "ipython3",
   "version": "3.8.5"
  }
 },
 "nbformat": 4,
 "nbformat_minor": 4
}
