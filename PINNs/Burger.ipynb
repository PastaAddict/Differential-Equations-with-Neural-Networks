{
 "cells": [
  {
   "cell_type": "code",
   "execution_count": 1,
   "metadata": {},
   "outputs": [],
   "source": [
    "import numpy as np\n",
    "import matplotlib.pyplot as plt\n",
    "import torch\n",
    "from torch import nn, optim\n",
    "from torch.nn import functional as F\n",
    "from torch.utils.data import TensorDataset, DataLoader\n",
    "from torch.autograd import Variable\n",
    "import pyDOE\n",
    "\n",
    "from torch.optim.optimizer import Optimizer, required\n",
    "\n",
    "torch.manual_seed(16)\n",
    "np.random.seed(16)\n",
    "#random.seed(16)\n",
    "torch.backends.cudnn.deterministic = True"
   ]
  },
  {
   "cell_type": "code",
   "execution_count": 2,
   "metadata": {},
   "outputs": [],
   "source": [
    "class PINN(nn.Module):\n",
    "    def __init__(self):\n",
    "        super(PINN,self).__init__()\n",
    "        #layer definitions\n",
    "        self.FC1 = nn.Linear(2,50)\n",
    "        self.act1 = nn.Tanh()\n",
    "        self.FC2 = nn.Linear(50,50)\n",
    "        self.act2 = nn.Tanh()\n",
    "        self.FC3 = nn.Linear(50,1)\n",
    "\n",
    "    def forward(self, x, t):\n",
    "        y  = torch.cat((x,t),1)\n",
    "        x1 = self.FC1(y)\n",
    "        x2 = self.act1(x1)\n",
    "        x3 = self.FC2(x2)\n",
    "        x4 = self.act2(x3)\n",
    "        x5 = self.FC3(x4)\n",
    "        return x5"
   ]
  },
  {
   "cell_type": "code",
   "execution_count": 3,
   "metadata": {},
   "outputs": [],
   "source": [
    "\"\"\"\n",
    "DE: u_t + u*u_x - (0.01/π)*u_xx = 0    -1<= x<= 1  0<= t<= 1\n",
    "u(0,x) = -sin(πx)\n",
    "u(t,-1) = u(t,1) = 0\n",
    "\"\"\"\n",
    "\n",
    "Nf = 1000\n",
    "\n",
    "design = pyDOE.lhs(2, samples = Nf)\n",
    "x = -1 + 2*design[:,0]\n",
    "t = design[:,1] #2nd variable\n",
    "f = np.zeros(Nf) #right hand side\n",
    "\n",
    "# Generate samples for x, u [boundary conditions]\n",
    "#boundary\n",
    "x_b = np.linspace(-1,1,40)\n",
    "t_b = np.linspace(0,1,20)\n",
    "\n",
    "t_0 = np.zeros(40)\n",
    "\n",
    "x_0 = np.zeros(20)+1\n",
    "x_1 = np.zeros(20)-1\n",
    "\n",
    "u_bc1 = np.zeros(40)\n",
    "u_bc2 = -np.sin(np.pi * x_b)\n",
    "\n",
    "\n",
    "#to tensor\n",
    "x = x.reshape((-1, 1))\n",
    "x = torch.tensor(x).type(torch.FloatTensor)\n",
    "t = t.reshape((-1, 1))\n",
    "t = torch.tensor(t).type(torch.FloatTensor)\n",
    "f = f.reshape((-1, 1))\n",
    "f = torch.tensor(f).type(torch.FloatTensor)\n",
    "\n",
    "x_b = x_b.reshape((-1, 1))\n",
    "x_b = torch.tensor(x_b).type(torch.FloatTensor)\n",
    "x_0 = x_0.reshape((-1, 1))\n",
    "x_0 = torch.tensor(x_0).type(torch.FloatTensor)\n",
    "x_1 = x_1.reshape((-1, 1))\n",
    "x_1 = torch.tensor(x_1).type(torch.FloatTensor)\n",
    "\n",
    "t_b = t_b.reshape((-1, 1))\n",
    "t_b = torch.tensor(t_b).type(torch.FloatTensor)\n",
    "t_0 = t_0.reshape((-1, 1))\n",
    "t_0 = torch.tensor(t_0).type(torch.FloatTensor)\n",
    "\n",
    "u_bc1 = u_bc1.reshape((-1, 1))\n",
    "u_bc1 = torch.tensor(u_bc1).type(torch.FloatTensor)\n",
    "u_bc2 = u_bc2.reshape((-1, 1))\n",
    "u_bc2 = torch.tensor(u_bc2).type(torch.FloatTensor)\n",
    "\n",
    "x_bc = torch.cat((x_b,x_0,x_1),0)\n",
    "t_bc = torch.cat((t_0,t_b,t_b),0)\n",
    "u_bc = torch.cat((u_bc2,u_bc1),0)\n",
    "\n",
    "#mu = u_bc.mean()\n",
    "#sigma = u_bc.std()\n",
    "#u_bc = (u_bc - mu)/sigma"
   ]
  },
  {
   "cell_type": "code",
   "execution_count": 4,
   "metadata": {},
   "outputs": [],
   "source": [
    "class GD(Optimizer):\n",
    "\n",
    "\n",
    "    def __init__(self, params, lr=required):\n",
    "        defaults = dict(lr=lr)\n",
    "        super(GD, self).__init__(params, defaults)\n",
    "\n",
    "\n",
    "    def step(self, closure=None):\n",
    "        \"\"\" Performs a single optimization step.\n",
    "        Arguments:\n",
    "            closure (callable, optional): A closure that reevaluates the model\n",
    "                and returns the loss.\n",
    "        \"\"\"\n",
    "        loss = None\n",
    "        if closure is not None:\n",
    "            loss = closure()\n",
    "\n",
    "        for group in self.param_groups:\n",
    "            lr = group['lr']\n",
    "\n",
    "            for p in group['params']:\n",
    "                if p.grad is None:\n",
    "                    continue\n",
    "                d_p = p.grad.data\n",
    "                p.data.add_(-group['lr'],d_p)\n",
    "\n",
    "        return loss"
   ]
  },
  {
   "cell_type": "code",
   "execution_count": 4,
   "metadata": {},
   "outputs": [],
   "source": [
    "pn = PINN()\n",
    "#pn.apply(init_weights)\n",
    "\n",
    "MAX_EPOCHS = 40000\n",
    "LRATE = 5e-3\n",
    "\n",
    "#L=torch.tensor(1).type(torch.FloatTensor)\n",
    "#L.requires_grad = True\n",
    "\n",
    "#Use Adam for training\n",
    "optimizer = torch.optim.Adam(pn.parameters(), lr=LRATE)\n",
    "\n",
    "criterion = nn.MSELoss()\n",
    "\n",
    "loss_history_u = []\n",
    "loss_history_f = []\n",
    "loss_history = []"
   ]
  },
  {
   "cell_type": "code",
   "execution_count": 5,
   "metadata": {
    "scrolled": true
   },
   "outputs": [
    {
     "name": "stdout",
     "output_type": "stream",
     "text": [
      "Epoch: 100, MSE_u: 0.0711326, MSE_f: 0.0194087, MSE: 0.0809506, l: 0.87\n",
      "Epoch: 200, MSE_u: 0.0520451, MSE_f: 0.0180471, MSE: 0.0653303, l: 0.91\n",
      "Epoch: 300, MSE_u: 0.0476404, MSE_f: 0.0156120, MSE: 0.0577362, l: 0.88\n",
      "Epoch: 400, MSE_u: 0.0427586, MSE_f: 0.0171361, MSE: 0.0570593, l: 0.93\n",
      "Epoch: 500, MSE_u: 0.0399928, MSE_f: 0.0177181, MSE: 0.0595960, l: 1.05\n",
      "Epoch: 600, MSE_u: 0.0391641, MSE_f: 0.0163878, MSE: 0.0559766, l: 1.01\n",
      "Epoch: 700, MSE_u: 0.0350109, MSE_f: 0.0186142, MSE: 0.0588206, l: 1.15\n",
      "Epoch: 800, MSE_u: 0.0365244, MSE_f: 0.0173210, MSE: 0.0612690, l: 1.20\n",
      "Epoch: 900, MSE_u: 0.0302707, MSE_f: 0.0203954, MSE: 0.0610889, l: 1.34\n",
      "Epoch: 1000, MSE_u: 0.0268557, MSE_f: 0.0230818, MSE: 0.0648242, l: 1.55\n",
      "Epoch: 1100, MSE_u: 0.0272342, MSE_f: 0.0204083, MSE: 0.0632234, l: 1.57\n",
      "Epoch: 1200, MSE_u: 0.0216787, MSE_f: 0.0385902, MSE: 0.0837755, l: 2.08\n",
      "Epoch: 1300, MSE_u: 0.0123821, MSE_f: 0.0294678, MSE: 0.0665280, l: 2.99\n",
      "Epoch: 1400, MSE_u: 0.0098296, MSE_f: 0.0307595, MSE: 0.0782779, l: 4.83\n",
      "Epoch: 1500, MSE_u: 0.0069095, MSE_f: 0.0415985, MSE: 0.0884209, l: 6.78\n",
      "Epoch: 1600, MSE_u: 0.0059763, MSE_f: 0.0405420, MSE: 0.0799749, l: 6.60\n",
      "Epoch: 1700, MSE_u: 0.0054168, MSE_f: 0.0422338, MSE: 0.0835759, l: 7.63\n",
      "Epoch: 1800, MSE_u: 0.0040862, MSE_f: 0.0464788, MSE: 0.0811264, l: 8.48\n",
      "Epoch: 1900, MSE_u: 0.0031271, MSE_f: 0.0519055, MSE: 0.0840960, l: 10.29\n"
     ]
    },
    {
     "ename": "KeyboardInterrupt",
     "evalue": "",
     "output_type": "error",
     "traceback": [
      "\u001b[1;31m---------------------------------------------------------------------------\u001b[0m",
      "\u001b[1;31mKeyboardInterrupt\u001b[0m                         Traceback (most recent call last)",
      "\u001b[1;32m<ipython-input-5-ea0cabc9c527>\u001b[0m in \u001b[0;36m<module>\u001b[1;34m\u001b[0m\n\u001b[0;32m     45\u001b[0m     \u001b[1;31m#optimizer step\u001b[0m\u001b[1;33m\u001b[0m\u001b[1;33m\u001b[0m\u001b[1;33m\u001b[0m\u001b[0m\n\u001b[0;32m     46\u001b[0m     \u001b[0moptimizer\u001b[0m\u001b[1;33m.\u001b[0m\u001b[0mzero_grad\u001b[0m\u001b[1;33m(\u001b[0m\u001b[1;33m)\u001b[0m\u001b[1;33m\u001b[0m\u001b[1;33m\u001b[0m\u001b[0m\n\u001b[1;32m---> 47\u001b[1;33m     \u001b[0mloss\u001b[0m\u001b[1;33m.\u001b[0m\u001b[0mbackward\u001b[0m\u001b[1;33m(\u001b[0m\u001b[1;33m)\u001b[0m\u001b[1;33m\u001b[0m\u001b[1;33m\u001b[0m\u001b[0m\n\u001b[0m\u001b[0;32m     48\u001b[0m     \u001b[0moptimizer\u001b[0m\u001b[1;33m.\u001b[0m\u001b[0mstep\u001b[0m\u001b[1;33m(\u001b[0m\u001b[1;33m)\u001b[0m\u001b[1;33m\u001b[0m\u001b[1;33m\u001b[0m\u001b[0m\n\u001b[0;32m     49\u001b[0m \u001b[1;33m\u001b[0m\u001b[0m\n",
      "\u001b[1;32m~\\anaconda3\\lib\\site-packages\\torch\\tensor.py\u001b[0m in \u001b[0;36mbackward\u001b[1;34m(self, gradient, retain_graph, create_graph)\u001b[0m\n\u001b[0;32m    193\u001b[0m                 \u001b[0mproducts\u001b[0m\u001b[1;33m.\u001b[0m \u001b[0mDefaults\u001b[0m \u001b[0mto\u001b[0m\u001b[0;31m \u001b[0m\u001b[0;31m`\u001b[0m\u001b[0;31m`\u001b[0m\u001b[1;32mFalse\u001b[0m\u001b[0;31m`\u001b[0m\u001b[0;31m`\u001b[0m\u001b[1;33m.\u001b[0m\u001b[1;33m\u001b[0m\u001b[1;33m\u001b[0m\u001b[0m\n\u001b[0;32m    194\u001b[0m         \"\"\"\n\u001b[1;32m--> 195\u001b[1;33m         \u001b[0mtorch\u001b[0m\u001b[1;33m.\u001b[0m\u001b[0mautograd\u001b[0m\u001b[1;33m.\u001b[0m\u001b[0mbackward\u001b[0m\u001b[1;33m(\u001b[0m\u001b[0mself\u001b[0m\u001b[1;33m,\u001b[0m \u001b[0mgradient\u001b[0m\u001b[1;33m,\u001b[0m \u001b[0mretain_graph\u001b[0m\u001b[1;33m,\u001b[0m \u001b[0mcreate_graph\u001b[0m\u001b[1;33m)\u001b[0m\u001b[1;33m\u001b[0m\u001b[1;33m\u001b[0m\u001b[0m\n\u001b[0m\u001b[0;32m    196\u001b[0m \u001b[1;33m\u001b[0m\u001b[0m\n\u001b[0;32m    197\u001b[0m     \u001b[1;32mdef\u001b[0m \u001b[0mregister_hook\u001b[0m\u001b[1;33m(\u001b[0m\u001b[0mself\u001b[0m\u001b[1;33m,\u001b[0m \u001b[0mhook\u001b[0m\u001b[1;33m)\u001b[0m\u001b[1;33m:\u001b[0m\u001b[1;33m\u001b[0m\u001b[1;33m\u001b[0m\u001b[0m\n",
      "\u001b[1;32m~\\anaconda3\\lib\\site-packages\\torch\\autograd\\__init__.py\u001b[0m in \u001b[0;36mbackward\u001b[1;34m(tensors, grad_tensors, retain_graph, create_graph, grad_variables)\u001b[0m\n\u001b[0;32m     95\u001b[0m         \u001b[0mretain_graph\u001b[0m \u001b[1;33m=\u001b[0m \u001b[0mcreate_graph\u001b[0m\u001b[1;33m\u001b[0m\u001b[1;33m\u001b[0m\u001b[0m\n\u001b[0;32m     96\u001b[0m \u001b[1;33m\u001b[0m\u001b[0m\n\u001b[1;32m---> 97\u001b[1;33m     Variable._execution_engine.run_backward(\n\u001b[0m\u001b[0;32m     98\u001b[0m         \u001b[0mtensors\u001b[0m\u001b[1;33m,\u001b[0m \u001b[0mgrad_tensors\u001b[0m\u001b[1;33m,\u001b[0m \u001b[0mretain_graph\u001b[0m\u001b[1;33m,\u001b[0m \u001b[0mcreate_graph\u001b[0m\u001b[1;33m,\u001b[0m\u001b[1;33m\u001b[0m\u001b[1;33m\u001b[0m\u001b[0m\n\u001b[0;32m     99\u001b[0m         allow_unreachable=True)  # allow_unreachable flag\n",
      "\u001b[1;31mKeyboardInterrupt\u001b[0m: "
     ]
    }
   ],
   "source": [
    "l=1\n",
    "for epoch in range(MAX_EPOCHS):\n",
    "    #full batch\n",
    "    #u\n",
    "    upred_bc = pn(x_bc, t_bc)\n",
    "\n",
    "    mse_u = criterion(input=upred_bc, target= u_bc)\n",
    "    loss_history_u.append([epoch, mse_u])\n",
    "\n",
    "    #f\n",
    "    xc = x.clone()\n",
    "    xc.requires_grad = True\n",
    "\n",
    "    tc = t.clone()\n",
    "    tc.requires_grad = True\n",
    "\n",
    "    upred = pn(xc, tc)\n",
    "    upred_x = torch.autograd.grad(upred.sum(),xc,create_graph=True)[0]\n",
    "    upred_xx = torch.autograd.grad(upred_x.sum(),xc,create_graph=True)[0]\n",
    "    upred_t = torch.autograd.grad(upred.sum(),tc,create_graph=True)[0]\n",
    "\n",
    "    mse_f = criterion(input=upred_t+upred*upred_x -(0.01/np.pi)*upred_xx, target = f )\n",
    "    loss_history_f.append([epoch, mse_f])\n",
    "    \n",
    "    with torch.no_grad():\n",
    "        ###custom loss\n",
    "        if epoch%10==0:\n",
    "            mse_u_grad = torch.autograd.grad(mse_u,pn.parameters(),retain_graph=True)\n",
    "            mse_f_grad = torch.autograd.grad(mse_f,pn.parameters(),retain_graph=True)\n",
    "\n",
    "            a = torch.cat([torch.flatten(i) for i in mse_u_grad if i is not None])\n",
    "            b = torch.cat([torch.flatten(i) for i in mse_f_grad if i is not None])\n",
    "\n",
    "            l = 0.1*torch.mean(torch.abs(b)).data/(torch.mean(torch.abs(a)).data) + (1 - 0.1)*l\n",
    "        ###\n",
    "    \n",
    "\n",
    "    \n",
    "    \n",
    "\n",
    "    #loss = l*(mse_u.data/(mse_u.data + mse_f.data)*mse_u + mse_f*(mse_f.data/(mse_f.data + mse_f.data)))\n",
    "    loss = l*mse_u + mse_f\n",
    "    loss_history.append([epoch, loss])\n",
    "    \n",
    "    #optimizer step\n",
    "    optimizer.zero_grad()\n",
    "    loss.backward()\n",
    "    optimizer.step()\n",
    "        \n",
    "        \n",
    "    if (epoch+1) % 100 == 0:\n",
    "        print(\"Epoch: {}, MSE_u: {:.7f}, MSE_f: {:.7f}, MSE: {:.7f}, l: {:.2f}\".format((epoch+1), mse_u, mse_f, loss, l))"
   ]
  },
  {
   "cell_type": "code",
   "execution_count": null,
   "metadata": {},
   "outputs": [],
   "source": [
    "Epoch: 10000, MSE_u: 0.0108566, MSE_f: 0.0028171, MSE: 0.0136737, l: 1.00\n",
    "Epoch: 10000, MSE_u: 0.0000074, MSE_f: 0.0218791, MSE: 0.0232050, l: 180.23\n",
    "Epoch: 10000, MSE_u: 0.0086718, MSE_f: 0.0087235, MSE: 0.0140874, l: 2.25"
   ]
  },
  {
   "cell_type": "code",
   "execution_count": 6,
   "metadata": {},
   "outputs": [
    {
     "data": {
      "text/plain": [
       "[<matplotlib.lines.Line2D at 0x2c3fa2307f0>]"
      ]
     },
     "execution_count": 6,
     "metadata": {},
     "output_type": "execute_result"
    },
    {
     "data": {
      "image/png": "[encoded data removed]",
      "text/plain": [
       "<Figure size 432x288 with 1 Axes>"
      ]
     },
     "metadata": {
      "needs_background": "light"
     },
     "output_type": "display_data"
    }
   ],
   "source": [
    "plt.plot([loss_history[i][1] for i in range(len(loss_history))])"
   ]
  },
  {
   "cell_type": "code",
   "execution_count": 6,
   "metadata": {},
   "outputs": [],
   "source": [
    "%matplotlib qt"
   ]
  },
  {
   "cell_type": "code",
   "execution_count": 7,
   "metadata": {},
   "outputs": [],
   "source": [
    "X = np.linspace(-1,1,100)\n",
    "Y = np.linspace(0,1,100)\n",
    "X, Y = np.meshgrid(X, Y)\n",
    "\n",
    "\n",
    "\n",
    "x = X.reshape((-1, 1))\n",
    "x = torch.tensor(x).type(torch.FloatTensor)\n",
    "\n",
    "y = Y.reshape((-1, 1))\n",
    "y = torch.tensor(y).type(torch.FloatTensor)\n",
    "\n",
    "U = pn(x,y)"
   ]
  },
  {
   "cell_type": "code",
   "execution_count": 8,
   "metadata": {},
   "outputs": [
    {
     "data": {
      "text/plain": [
       "<mpl_toolkits.mplot3d.art3d.Line3DCollection at 0x22455f1ff40>"
      ]
     },
     "execution_count": 8,
     "metadata": {},
     "output_type": "execute_result"
    }
   ],
   "source": [
    "fig = plt.figure()\n",
    "ax = plt.axes(projection='3d')\n",
    "ax.plot_wireframe(X, Y, U.detach().numpy().reshape(100,100))\n",
    "#ax.plot_wireframe(X, Y, Z, color = 'r')"
   ]
  }
 ],
 "metadata": {
  "kernelspec": {
   "display_name": "Python 3",
   "language": "python",
   "name": "python3"
  },
  "language_info": {
   "codemirror_mode": {
    "name": "ipython",
    "version": 3
   },
   "file_extension": ".py",
   "mimetype": "text/x-python",
   "name": "python",
   "nbconvert_exporter": "python",
   "pygments_lexer": "ipython3",
   "version": "3.8.5"
  }
 },
 "nbformat": 4,
 "nbformat_minor": 4
}
