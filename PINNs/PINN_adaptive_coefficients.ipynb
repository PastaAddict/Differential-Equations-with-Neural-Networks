{
 "cells": [
  {
   "cell_type": "code",
   "execution_count": 1,
   "metadata": {},
   "outputs": [],
   "source": [
    "import numpy as np\n",
    "import matplotlib.pyplot as plt\n",
    "import torch\n",
    "from torch import nn, optim\n",
    "from torch.nn import functional as F\n",
    "from torch.utils.data import TensorDataset, DataLoader\n",
    "from torch.autograd import Variable\n",
    "import pyDOE"
   ]
  },
  {
   "cell_type": "code",
   "execution_count": 2,
   "metadata": {},
   "outputs": [],
   "source": [
    "class PINN(nn.Module):\n",
    "    def __init__(self):\n",
    "        super(PINN,self).__init__()\n",
    "        #layer definitions\n",
    "        self.FC1 = nn.Linear(2,50)\n",
    "        self.act1 = nn.Tanh()\n",
    "        self.FC2 = nn.Linear(50,50)\n",
    "        self.act2 = nn.Tanh()\n",
    "        self.FC3 = nn.Linear(50,1)\n",
    "\n",
    "    def forward(self, x, t):\n",
    "        y  = torch.cat((x,t),1)\n",
    "        x1 = self.FC1(y)\n",
    "        x2 = self.act1(x1)\n",
    "        x3 = self.FC2(x2)\n",
    "        x4 = self.act2(x3)\n",
    "        x5 = self.FC3(x4)\n",
    "        return x5"
   ]
  },
  {
   "cell_type": "code",
   "execution_count": 3,
   "metadata": {},
   "outputs": [],
   "source": [
    "\"\"\"\n",
    "DE: u_x + u_t = 0\n",
    "u(x,0) = e^x\n",
    "\"\"\"\n",
    "\n",
    "design = pyDOE.lhs(2, samples = 1000)\n",
    "x = design[:,0] #1st variable\n",
    "t = design[:,1] #2nd variable\n",
    "f = np.zeros(1000) #right hand side\n",
    "\n",
    "#boundary\n",
    "x_bc = np.linspace(0,1,10)\n",
    "t_bc = np.zeros(10)\n",
    "u_bc = np.exp(x_bc)\n",
    "\n",
    "#to tensor\n",
    "\n",
    "x = x.reshape((-1, 1))\n",
    "x = torch.tensor(x).type(torch.FloatTensor)\n",
    "t = t.reshape((-1, 1))\n",
    "t = torch.tensor(t).type(torch.FloatTensor)\n",
    "f = f.reshape((-1, 1))\n",
    "f = torch.tensor(f).type(torch.FloatTensor)\n",
    "\n",
    "x_bc = x_bc.reshape((-1, 1))\n",
    "x_bc = torch.tensor(x_bc).type(torch.FloatTensor)\n",
    "t_bc = t_bc.reshape((-1, 1))\n",
    "t_bc = torch.tensor(t_bc).type(torch.FloatTensor)\n",
    "u_bc = u_bc.reshape((-1, 1))\n",
    "u_bc = torch.tensor(u_bc).type(torch.FloatTensor)"
   ]
  },
  {
   "cell_type": "code",
   "execution_count": 4,
   "metadata": {},
   "outputs": [],
   "source": [
    "pn = PINN()\n",
    "#pn.apply(init_weights)\n",
    "\n",
    "MAX_EPOCHS = 20000\n",
    "LRATE = 1e-4\n",
    "\n",
    "#Use Adam for training\n",
    "optimizer = torch.optim.Adam(pn.parameters(), lr=LRATE)\n",
    "criterion = nn.MSELoss()\n",
    "\n",
    "loss_history_u = []\n",
    "loss_history_f = []\n",
    "loss_history = []"
   ]
  },
  {
   "cell_type": "markdown",
   "metadata": {},
   "source": [
    "Modified Loss function:\n",
    "\n",
    "$$L(\\theta) := L_{r}(\\theta) + \\sum_{i=1}^{M} \\lambda_{i}L_{i}(\\theta)$$\n",
    "\n",
    "$$\\hat{\\lambda_{i}} = \\frac{\\max_{\\theta}|\\nabla_{\\theta} L_{r}(\\theta)|}{\\overline{|\\nabla_{\\theta} L_{i}(\\theta)|}}$$\n",
    "\n",
    "$$ \\lambda_{i} = (1-a)\\lambda_{i} + a\\hat{\\lambda_{i}}$$"
   ]
  },
  {
   "cell_type": "code",
   "execution_count": 5,
   "metadata": {
    "scrolled": true
   },
   "outputs": [
    {
     "name": "stdout",
     "output_type": "stream",
     "text": [
      "Epoch: 100, MSE_u: 1.7316796, MSE_f: 0.0117242, MSE: 1.9754835, l: 1.1340\n",
      "Epoch: 200, MSE_u: 1.1607323, MSE_f: 0.0068449, MSE: 0.3211981, l: 0.2708\n",
      "Epoch: 300, MSE_u: 0.9317682, MSE_f: 0.0083882, MSE: 0.3212498, l: 0.3358\n",
      "Epoch: 400, MSE_u: 0.5649897, MSE_f: 0.0126476, MSE: 0.4373924, l: 0.7518\n",
      "Epoch: 500, MSE_u: 0.1677915, MSE_f: 0.0502259, MSE: 1.6793816, l: 9.7094\n",
      "Epoch: 600, MSE_u: 0.0137382, MSE_f: 1.4243178, MSE: 107.0724792, l: 7690.1104\n",
      "Epoch: 700, MSE_u: 0.0064783, MSE_f: 0.7288966, MSE: 55.7517738, l: 8493.4258\n",
      "Epoch: 800, MSE_u: 0.0027836, MSE_f: 0.3504493, MSE: 22.6443424, l: 8009.0166\n",
      "Epoch: 900, MSE_u: 0.0010031, MSE_f: 0.1913593, MSE: 8.5393286, l: 8321.9209\n",
      "Epoch: 1000, MSE_u: 0.0003984, MSE_f: 0.1498484, MSE: 0.9701295, l: 2059.1904\n"
     ]
    }
   ],
   "source": [
    "l=1\n",
    "for epoch in range(1000):\n",
    "    #full batch\n",
    "\n",
    "    #u\n",
    "    upred_bc = pn(x_bc, t_bc)\n",
    "\n",
    "    mse_u = criterion(input=upred_bc, target=u_bc)\n",
    "    loss_history_u.append([epoch, mse_u])\n",
    "\n",
    "    #f\n",
    "    xc = x.clone()\n",
    "    xc.requires_grad = True\n",
    "\n",
    "    tc = t.clone()\n",
    "    tc.requires_grad = True\n",
    "\n",
    "    upred = pn(xc, tc)\n",
    "    upred_x = torch.autograd.grad(upred.sum(),xc,create_graph=True)[0]\n",
    "    upred_t = torch.autograd.grad(upred.sum(),tc,create_graph=True)[0]\n",
    "\n",
    "    mse_f = criterion(input=upred_x + upred_t, target=f)\n",
    "    loss_history_f.append([epoch, mse_f])\n",
    "    \n",
    "    ###custom loss\n",
    "    \n",
    "    if epoch%10==0:\n",
    "        mse_u_grad = torch.autograd.grad(mse_u,pn.parameters(),retain_graph=True)\n",
    "        mse_f_grad = torch.autograd.grad(mse_f,pn.parameters(),retain_graph=True, allow_unused=True)\n",
    "\n",
    "        a = torch.cat([torch.flatten(i) for i in mse_u_grad])\n",
    "        b = torch.cat([torch.flatten(i) for i in mse_f_grad if i is not None])\n",
    "\n",
    "        l = 0.9*torch.max(torch.abs(b))/torch.mean(torch.abs(a)) + (1 - 0.9)*l\n",
    "        \n",
    "    \n",
    "    \n",
    "    ###\n",
    "    \n",
    "\n",
    "    \n",
    "\n",
    "    loss = l*mse_u + mse_f\n",
    "    loss_history.append([epoch, loss])\n",
    "\n",
    "    #optimizer step\n",
    "    optimizer.zero_grad()\n",
    "    loss.backward()\n",
    "    optimizer.step()\n",
    "        \n",
    "        \n",
    "    if (epoch+1) % 100 == 0:\n",
    "        print(\"Epoch: {}, MSE_u: {:.7f}, MSE_f: {:.7f}, MSE: {:.7f}, l: {:.4f}\".format((epoch+1), mse_u, mse_f, loss, l))\n"
   ]
  },
  {
   "cell_type": "code",
   "execution_count": 6,
   "metadata": {},
   "outputs": [
    {
     "name": "stdout",
     "output_type": "stream",
     "text": [
      "max gradLr : 0.3661448657512665\n",
      "mean gradLi : 0.00017243331240024418\n"
     ]
    }
   ],
   "source": [
    "print(\"max gradLr :\", torch.max(torch.abs(b)).item())\n",
    "print(\"mean gradLi :\", torch.mean(torch.abs(a)).item())"
   ]
  },
  {
   "cell_type": "code",
   "execution_count": 7,
   "metadata": {
    "scrolled": true
   },
   "outputs": [
    {
     "data": {
      "text/plain": [
       "[<matplotlib.lines.Line2D at 0x25915c17370>]"
      ]
     },
     "execution_count": 7,
     "metadata": {},
     "output_type": "execute_result"
    },
    {
     "data": {
      "image/png": "[encoded data removed]",
      "text/plain": [
       "<Figure size 432x288 with 1 Axes>"
      ]
     },
     "metadata": {
      "needs_background": "light"
     },
     "output_type": "display_data"
    }
   ],
   "source": [
    "plt.plot(torch.abs(b))"
   ]
  },
  {
   "cell_type": "code",
   "execution_count": 8,
   "metadata": {
    "scrolled": true
   },
   "outputs": [
    {
     "data": {
      "text/plain": [
       "[<matplotlib.lines.Line2D at 0x25915cf3970>]"
      ]
     },
     "execution_count": 8,
     "metadata": {},
     "output_type": "execute_result"
    },
    {
     "data": {
      "image/png": "[encoded data removed]",
      "text/plain": [
       "<Figure size 432x288 with 1 Axes>"
      ]
     },
     "metadata": {
      "needs_background": "light"
     },
     "output_type": "display_data"
    }
   ],
   "source": [
    "plt.plot(torch.abs(b[-100:]))"
   ]
  },
  {
   "cell_type": "markdown",
   "metadata": {},
   "source": [
    "Big discrepancy between loss gradients wrt the network parameters, in particular the 50 last gradients \n",
    "(which correspond to last layer weights) have signifacantly larger values, which results in the loss weight blow-up.\n",
    "\n",
    "$$  \\nabla_{\\theta} L_{r}(\\theta)     $$\n",
    "$$ L_{r}(\\theta) = \\frac{1}{L}\\sum_{m=1}^{L}(y^{N} - y_{m})^{2}$$\n",
    "\n",
    "$$ y^{N} = w^{TN}y^{N-1} + b^{N} $$\n",
    "\n",
    "$$ y^{N-i} = Tanh(w^{N-i}y^{N-i-1} + b^{N-i}) \\qquad i=1,\\dots,N-2 $$\n",
    "Loss wrt the last layer weights:\n",
    "$$\\frac{\\partial L_{r}(\\theta)}{\\partial w_{i}^{N}} = \\frac{1}{L}\\sum_{m=1}^{L}2y^{N-1}_{i}(y^{N} - y_{m})$$\n",
    "\n",
    "Loss wrt the second from last layer weights:\n",
    "$$\\frac{\\partial L_{r}(\\theta)}{\\partial w_{ij}^{N-1}} = \\frac{1}{L}\\sum_{m=1}^{L}2(y^{N} - y_{m})w^{TN}[1-0.5tanh^{2}(w^{N-1}y^{N-2} + b^{N-1})]y^{N-2}_i$$\n",
    "    "
   ]
  },
  {
   "cell_type": "code",
   "execution_count": 6,
   "metadata": {},
   "outputs": [],
   "source": [
    "%matplotlib qt"
   ]
  },
  {
   "cell_type": "code",
   "execution_count": 7,
   "metadata": {
    "scrolled": true
   },
   "outputs": [
    {
     "data": {
      "text/plain": [
       "<mpl_toolkits.mplot3d.art3d.Line3DCollection at 0x23ad72c5460>"
      ]
     },
     "execution_count": 7,
     "metadata": {},
     "output_type": "execute_result"
    }
   ],
   "source": [
    "X = np.linspace(0,1,100)\n",
    "Y = np.linspace(0,1,100)\n",
    "X, Y = np.meshgrid(X, Y)\n",
    "Z=np.exp(X-Y)\n",
    "fig = plt.figure()\n",
    "ax = plt.axes(projection='3d')\n",
    "ax.plot_wireframe(X, Y, Z)"
   ]
  },
  {
   "cell_type": "code",
   "execution_count": 8,
   "metadata": {},
   "outputs": [],
   "source": [
    "X = np.linspace(0,1,100)\n",
    "T = np.linspace(0,1,100)\n",
    "X, T = np.meshgrid(X, T)\n",
    "\n",
    "\n",
    "x = X.reshape((-1, 1))\n",
    "x = torch.tensor(x).type(torch.FloatTensor)\n",
    "\n",
    "t = T.reshape((-1, 1))\n",
    "t = torch.tensor(t).type(torch.FloatTensor)\n",
    "\n",
    "U = pn(x,t)"
   ]
  },
  {
   "cell_type": "code",
   "execution_count": 10,
   "metadata": {
    "scrolled": true
   },
   "outputs": [
    {
     "data": {
      "text/plain": [
       "<mpl_toolkits.mplot3d.art3d.Line3DCollection at 0x23a96895520>"
      ]
     },
     "execution_count": 10,
     "metadata": {},
     "output_type": "execute_result"
    }
   ],
   "source": [
    "fig = plt.figure()\n",
    "ax = plt.axes(projection='3d')\n",
    "ax.plot_wireframe(X, T,  U.detach().numpy().reshape(100,100))\n",
    "ax.plot_wireframe(X, Y, Z, color = 'r')"
   ]
  }
 ],
 "metadata": {
  "kernelspec": {
   "display_name": "Python 3",
   "language": "python",
   "name": "python3"
  },
  "language_info": {
   "codemirror_mode": {
    "name": "ipython",
    "version": 3
   },
   "file_extension": ".py",
   "mimetype": "text/x-python",
   "name": "python",
   "nbconvert_exporter": "python",
   "pygments_lexer": "ipython3",
   "version": "3.8.5"
  }
 },
 "nbformat": 4,
 "nbformat_minor": 4
}
